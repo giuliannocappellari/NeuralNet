{
 "cells": [
  {
   "cell_type": "code",
   "execution_count": 1,
   "metadata": {},
   "outputs": [],
   "source": [
    "import numpy as np\n",
    "import math\n",
    "from typing import List, Callable"
   ]
  },
  {
   "cell_type": "code",
   "execution_count": 2,
   "metadata": {},
   "outputs": [],
   "source": [
    "def sigmoid(s) -> float:\n",
    "  \n",
    "  \"\"\"\n",
    "  This function gets the s (out of the last layer * weights) parameter\n",
    "  And pass it for relu function\n",
    "  \"\"\"\n",
    "  return 1 / (1 + np.exp(-s))\n",
    "\n",
    "def deri_sigmoid(s:float) -> float:\n",
    "  return s * (1 - s)"
   ]
  },
  {
   "cell_type": "code",
   "execution_count": 3,
   "metadata": {},
   "outputs": [],
   "source": [
    "def MSE(y_hat:np.array, y:np.array):\n",
    "    y_hat = np.array([y_hat])\n",
    "    y = np.array([y])\n",
    "    return (1/(2*y_hat.shape[0]))*sum([(y_hat[i] - y[i])**2 for i in range(y_hat.shape[0])])"
   ]
  },
  {
   "cell_type": "code",
   "execution_count": 4,
   "metadata": {},
   "outputs": [],
   "source": [
    "x1 = np.array([0.5, 0.1])\n",
    "y1 = 0.7\n",
    "x2 = np.array([0.2, 0.6])\n",
    "y2 = 0.8\n",
    "pesos1 = np.array([[0.5, 0.2], [0.6,-0.1],[-0.4, -0.3]])\n",
    "pesos2 = np.array([0.7, -0.1, 0.2])"
   ]
  },
  {
   "cell_type": "code",
   "execution_count": 41,
   "metadata": {},
   "outputs": [],
   "source": [
    "class NN:\n",
    "\n",
    "\n",
    "    def __init__(self, layers:List[dict], lr:float=0.01) -> None:\n",
    "        \n",
    "        self.layers = layers\n",
    "        self.lr = lr\n",
    "        self.loss = 0\n",
    "\n",
    "\n",
    "    def forward(self, x:np.array) -> None:\n",
    "        \n",
    "        for layer in self.layers:\n",
    "            s = np.dot(layer[\"weights\"], x) + layer[\"bias\"]\n",
    "            x = layer[\"activation_func\"](s)\n",
    "            print(f\"O out é {x}\")\n",
    "            print(f\"O shape de out é {x.shape}\")\n",
    "            layer[\"out\"] = x\n",
    "    \n",
    "\n",
    "    def compute_loss(self, y_hat:np.array, y:np.array, loss_func:Callable=MSE) -> None:\n",
    "\n",
    "        self.loss = loss_func(y_hat, y)\n",
    "    \n",
    "\n",
    "    def backward(self, X, y) -> None:\n",
    "\n",
    "        for i in range(len(self.layers)-1, -1, -1):\n",
    "            if i == (len(self.layers) - 1):\n",
    "                d_J_o = self.layers[i][\"out\"] - y\n",
    "                d_o_s = self.layers[i][\"out\"] * (1 - self.layers[i][\"out\"])\n",
    "                self.layers[i][\"delta\"] = d_J_o * d_o_s\n",
    "                self.layers[i][\"d_J\"] = np.dot(self.layers[i][\"delta\"], self.layers[i-1][\"out\"].reshape(-1, self.layers[i-1][\"out\"].shape[0]))\n",
    "            elif i == 0:\n",
    "                d_o_s = self.layers[i][\"out\"] * (1 - self.layers[i][\"out\"])\n",
    "                self.layers[i][\"delta\"] = np.dot(self.layers[i+1][\"weights\"].reshape(-1, self.layers[i+1][\"weights\"].shape[0]), self.layers[i+1][\"delta\"]) * d_o_s\n",
    "                self.layers[i][\"d_J\"] = np.dot(X, self.layers[i][\"delta\"].reshape(-1, self.layers[i][\"delta\"].shape[0]))\n",
    "            else:\n",
    "                d_o_s = self.layers[i][\"out\"] * (1 - self.layers[i][\"out\"])\n",
    "                self.layers[i][\"delta\"] = np.dot(self.layers[i+1][\"weights\"], self.layers[i+1][\"delta\"]) * d_o_s\n",
    "                self.layers[i][\"d_J\"] = np.dot(self.layers[i-1][\"out\"], self.layers[i][\"delta\"])\n",
    "\n",
    "\n",
    "    def optimizer(self):\n",
    "\n",
    "        for layer in self.layers:\n",
    "            print(layer[\"d_J\"])\n",
    "            layer[\"weights\"] = layer[\"weights\"] - (self.lr * layer[\"d_J\"])\n",
    "\n",
    "\n",
    "    def train(self, X, y, epochs):\n",
    "\n",
    "        for epoch in range(0, epochs):\n",
    "            print(epoch)\n",
    "            # print(self.layers[-1].get(\"out\",None))\n",
    "            self.forward(X)\n",
    "            # print(X)\n",
    "            # print(epoch)\n",
    "            # print(self.layers[-1].get(\"out\",None))\n",
    "            self.compute_loss(self.layers[-1][\"out\"], y)\n",
    "            self.backward(X, y)\n",
    "            self.optimizer()\n",
    "            # print(\"-\"*100)\n",
    "            # print(f\"{' '*40}EPOCH: {epoch}\")\n",
    "            # print(\"-\"*100)\n",
    "            # print(f'Loss {self.loss}')\n",
    "        "
   ]
  },
  {
   "cell_type": "code",
   "execution_count": 42,
   "metadata": {},
   "outputs": [],
   "source": [
    "x1 = np.array([[0.5, 0.1]]).T\n",
    "y1 = 0.7\n",
    "pesos1 = np.array([[0.5, 0.2], [0.6,-0.1],[-0.4, -0.3]])\n",
    "pesos2 = np.array([[0.7, -0.1, 0.2]])"
   ]
  },
  {
   "cell_type": "code",
   "execution_count": 43,
   "metadata": {},
   "outputs": [
    {
     "name": "stdout",
     "output_type": "stream",
     "text": [
      "0\n",
      "O out é [[0.5670929 ]\n",
      " [0.57199613]\n",
      " [0.44275215]]\n",
      "O shape de out é (3, 1)\n",
      "O out é [[0.60547144]]\n",
      "O shape de out é (1, 1)\n",
      "d_o_s [[0.23887578]]\n",
      "delta layer 1 [[-0.02258058]]\n",
      "d_J layer 1 [[-0.01280529 -0.01291601 -0.0099976 ]]\n",
      "d_o_s [[0.24549854]\n",
      " [0.24481656]\n",
      " [0.24672268]]\n",
      "delta layer 0 [[-0.00388045]\n",
      " [ 0.00055281]\n",
      " [-0.00111423]]\n",
      "d_J layer 0 [[-1.94022514e-03  2.76405039e-04 -5.57114222e-04]\n",
      " [-3.88045028e-04  5.52810078e-05 -1.11422844e-04]]\n",
      "[[-1.94022514e-03  2.76405039e-04 -5.57114222e-04]\n",
      " [-3.88045028e-04  5.52810078e-05 -1.11422844e-04]]\n"
     ]
    },
    {
     "ename": "ValueError",
     "evalue": "operands could not be broadcast together with shapes (3,2) (2,3) ",
     "output_type": "error",
     "traceback": [
      "\u001b[0;31m---------------------------------------------------------------------------\u001b[0m",
      "\u001b[0;31mValueError\u001b[0m                                Traceback (most recent call last)",
      "Cell \u001b[0;32mIn[43], line 2\u001b[0m\n\u001b[1;32m      1\u001b[0m nn \u001b[39m=\u001b[39m NN([{\u001b[39m\"\u001b[39m\u001b[39mweights\u001b[39m\u001b[39m\"\u001b[39m:pesos1, \u001b[39m\"\u001b[39m\u001b[39mbias\u001b[39m\u001b[39m\"\u001b[39m:\u001b[39m0\u001b[39m, \u001b[39m\"\u001b[39m\u001b[39mactivation_func\u001b[39m\u001b[39m\"\u001b[39m:sigmoid}, {\u001b[39m\"\u001b[39m\u001b[39mweights\u001b[39m\u001b[39m\"\u001b[39m:pesos2, \u001b[39m\"\u001b[39m\u001b[39mbias\u001b[39m\u001b[39m\"\u001b[39m:\u001b[39m0\u001b[39m, \u001b[39m\"\u001b[39m\u001b[39mactivation_func\u001b[39m\u001b[39m\"\u001b[39m:sigmoid}])\n\u001b[0;32m----> 2\u001b[0m nn\u001b[39m.\u001b[39;49mtrain(x1, y1, \u001b[39m10\u001b[39;49m)\n",
      "Cell \u001b[0;32mIn[41], line 65\u001b[0m, in \u001b[0;36mNN.train\u001b[0;34m(self, X, y, epochs)\u001b[0m\n\u001b[1;32m     63\u001b[0m \u001b[39mself\u001b[39m\u001b[39m.\u001b[39mcompute_loss(\u001b[39mself\u001b[39m\u001b[39m.\u001b[39mlayers[\u001b[39m-\u001b[39m\u001b[39m1\u001b[39m][\u001b[39m\"\u001b[39m\u001b[39mout\u001b[39m\u001b[39m\"\u001b[39m], y)\n\u001b[1;32m     64\u001b[0m \u001b[39mself\u001b[39m\u001b[39m.\u001b[39mbackward(X, y)\n\u001b[0;32m---> 65\u001b[0m \u001b[39mself\u001b[39;49m\u001b[39m.\u001b[39;49moptimizer()\n",
      "Cell \u001b[0;32mIn[41], line 51\u001b[0m, in \u001b[0;36mNN.optimizer\u001b[0;34m(self)\u001b[0m\n\u001b[1;32m     49\u001b[0m \u001b[39mfor\u001b[39;00m layer \u001b[39min\u001b[39;00m \u001b[39mself\u001b[39m\u001b[39m.\u001b[39mlayers:\n\u001b[1;32m     50\u001b[0m     \u001b[39mprint\u001b[39m(layer[\u001b[39m\"\u001b[39m\u001b[39md_J\u001b[39m\u001b[39m\"\u001b[39m])\n\u001b[0;32m---> 51\u001b[0m     layer[\u001b[39m\"\u001b[39m\u001b[39mweights\u001b[39m\u001b[39m\"\u001b[39m] \u001b[39m=\u001b[39m layer[\u001b[39m\"\u001b[39;49m\u001b[39mweights\u001b[39;49m\u001b[39m\"\u001b[39;49m] \u001b[39m-\u001b[39;49m (\u001b[39mself\u001b[39;49m\u001b[39m.\u001b[39;49mlr \u001b[39m*\u001b[39;49m layer[\u001b[39m\"\u001b[39;49m\u001b[39md_J\u001b[39;49m\u001b[39m\"\u001b[39;49m])\n",
      "\u001b[0;31mValueError\u001b[0m: operands could not be broadcast together with shapes (3,2) (2,3) "
     ]
    }
   ],
   "source": [
    "nn = NN([{\"weights\":pesos1, \"bias\":0, \"activation_func\":sigmoid}, {\"weights\":pesos2, \"bias\":0, \"activation_func\":sigmoid}])\n",
    "nn.train(x1, y1, 10)"
   ]
  },
  {
   "cell_type": "code",
   "execution_count": 151,
   "metadata": {},
   "outputs": [
    {
     "data": {
      "text/plain": [
       "array([0.6065971 , 0.60659751, 0.6065865 ])"
      ]
     },
     "execution_count": 151,
     "metadata": {},
     "output_type": "execute_result"
    }
   ],
   "source": [
    "nn.layers[-1][\"out\"]"
   ]
  },
  {
   "cell_type": "code",
   "execution_count": null,
   "metadata": {},
   "outputs": [],
   "source": []
  }
 ],
 "metadata": {
  "kernelspec": {
   "display_name": "Python 3",
   "language": "python",
   "name": "python3"
  },
  "language_info": {
   "codemirror_mode": {
    "name": "ipython",
    "version": 3
   },
   "file_extension": ".py",
   "mimetype": "text/x-python",
   "name": "python",
   "nbconvert_exporter": "python",
   "pygments_lexer": "ipython3",
   "version": "3.11.4"
  },
  "orig_nbformat": 4
 },
 "nbformat": 4,
 "nbformat_minor": 2
}
